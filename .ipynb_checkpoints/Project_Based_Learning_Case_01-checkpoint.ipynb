{
 "cells": [
  {
   "cell_type": "code",
   "execution_count": 1,
   "id": "b8cabf2b-bc84-4343-8e2b-731f7bebbd41",
   "metadata": {},
   "outputs": [],
   "source": [
    "import pandas as pd\n",
    "import numpy as np\n",
    "import statistics\n",
    "import scipy.stats as stats"
   ]
  },
  {
   "cell_type": "code",
   "execution_count": 10,
   "id": "de84ff55-2709-4718-9522-ae939ea17186",
   "metadata": {},
   "outputs": [],
   "source": [
    "new_amount= [100,150,50,100,130,120,100,85,70,150,150,120,50,100,100,140,90,150,50,90,120,100,110,75,65]\n",
    "TransactionAmount= pd.DataFrame({'Transcation':new_amount})"
   ]
  },
  {
   "cell_type": "code",
   "execution_count": 11,
   "id": "8f335300-f842-4163-a318-a4522a600fbe",
   "metadata": {},
   "outputs": [],
   "source": [
    "#Definiton Print Statictic Function\n",
    "def SF(stat_funct):\n",
    "    result = round(stat_funct(TransactionAmount['Transcation'].tolist()),1)\n",
    "    func_name = stat_funct.__name__.split('.')[-1].capitalize()\n",
    "    return print(f'{func_name} = {result}')"
   ]
  },
  {
   "cell_type": "code",
   "execution_count": 12,
   "id": "b0816dfa-34b7-4271-96c3-f6678318b2fc",
   "metadata": {},
   "outputs": [
    {
     "name": "stdout",
     "output_type": "stream",
     "text": [
      "Mean = 102.6\n",
      "Median = 100\n",
      "Mode = 100\n"
     ]
    }
   ],
   "source": [
    "#Measure Central Tendency\n",
    "SF(statistics.mean)\n",
    "SF(statistics.median)\n",
    "SF(statistics.mode)"
   ]
  },
  {
   "cell_type": "code",
   "execution_count": 13,
   "id": "c88f7927-e5e2-4fcd-a0b2-7b5710c5ee84",
   "metadata": {},
   "outputs": [
    {
     "name": "stdout",
     "output_type": "stream",
     "text": [
      "Stdev = 31.8\n",
      "Variance = 1012.8\n",
      "Range = 100\n",
      "Q1 = 85.0\n",
      "Q2 = 100.0\n",
      "Q3 = 120.0\n"
     ]
    }
   ],
   "source": [
    "#Measure Variability\n",
    "SF(statistics.stdev)\n",
    "SF(statistics.variance)\n",
    "print(f'Range = {np.max(new_amount)- np.min(new_amount)}')\n",
    "print(f'Q1 = {np.quantile(new_amount,0.25)}')\n",
    "print(f'Q2 = {np.quantile(new_amount,0.5)}')\n",
    "print(f'Q3 = {np.quantile(new_amount,0.75)}')"
   ]
  },
  {
   "cell_type": "code",
   "execution_count": null,
   "id": "cdaf6298-ed61-4ea9-9d5e-9acd42a532bd",
   "metadata": {},
   "outputs": [],
   "source": [
    "# H0= 100 , H1>100\n",
    "# α= 5%"
   ]
  },
  {
   "cell_type": "code",
   "execution_count": 26,
   "id": "5338c370-d2b8-403d-bbd0-9de827ed65c8",
   "metadata": {},
   "outputs": [
    {
     "data": {
      "text/plain": [
       "TtestResult(statistic=0.4085001556802841, pvalue=0.6865284813438117, df=24)"
      ]
     },
     "execution_count": 26,
     "metadata": {},
     "output_type": "execute_result"
    }
   ],
   "source": [
    "# T-test and p-Value\n",
    "stats.ttest_1samp(a=TransactionAmount['Transcation'], popmean=100)"
   ]
  },
  {
   "cell_type": "code",
   "execution_count": null,
   "id": "1d6b6a38-a66d-4520-8345-bb69e0c47ecb",
   "metadata": {},
   "outputs": [],
   "source": [
    "# p_value > alpha (0.05) --> fail to reject H0"
   ]
  },
  {
   "cell_type": "code",
   "execution_count": 18,
   "id": "dc6dd5d0-38a5-4bde-8ce4-27b24712250e",
   "metadata": {},
   "outputs": [
    {
     "data": {
      "text/plain": [
       "1.7108820799094275"
      ]
     },
     "execution_count": 18,
     "metadata": {},
     "output_type": "execute_result"
    }
   ],
   "source": [
    "# Critical  Region Right (because H1>H0)\n",
    "stats.t.ppf(1-0.05,24)"
   ]
  },
  {
   "cell_type": "code",
   "execution_count": null,
   "id": "b2cb3af5-d1c9-4355-80fc-14b6ec2a51df",
   "metadata": {},
   "outputs": [],
   "source": [
    "# t-statistic= 0.4 critical_region > 1,7 --> t-statistic in outside critical region so fail to reject H0"
   ]
  },
  {
   "cell_type": "code",
   "execution_count": null,
   "id": "952dfa54-a04a-4bb5-a992-a9a39dacb0b6",
   "metadata": {},
   "outputs": [],
   "source": [
    "#Conclusion : Training still not effective to increase the sale from sales"
   ]
  }
 ],
 "metadata": {
  "kernelspec": {
   "display_name": "Python 3 (ipykernel)",
   "language": "python",
   "name": "python3"
  },
  "language_info": {
   "codemirror_mode": {
    "name": "ipython",
    "version": 3
   },
   "file_extension": ".py",
   "mimetype": "text/x-python",
   "name": "python",
   "nbconvert_exporter": "python",
   "pygments_lexer": "ipython3",
   "version": "3.11.4"
  }
 },
 "nbformat": 4,
 "nbformat_minor": 5
}
